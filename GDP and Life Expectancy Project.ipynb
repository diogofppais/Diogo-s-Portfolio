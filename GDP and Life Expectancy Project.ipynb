{
 "cells": [
  {
   "cell_type": "markdown",
   "metadata": {},
   "source": [
    "# Exploring Economic Growth and Life Expectancy"
   ]
  },
  {
   "cell_type": "markdown",
   "metadata": {},
   "source": [
    "In an era marked by globalization and rapid socio-economic transformations, the interplay between a nation's economic prosperity and the well-being of its citizens is an ever-pertinent topic of study. This data analysis project embarks on a comprehensive exploration of key indicators, focusing on GDP (Gross Domestic Product) and life expectancy, across six diverse countries: Chile, China, Germany, Mexico, the United States of America, and Zimbabwe. Our quest to understand the intricate relationships between economic development and healthcare outcomes has led us to scrutinize these countries and their journey from 2000 to 2015.\n",
    "\n",
    "#### Project Highlights:\n",
    "\n",
    "* Data Acquisition and Preprocessing: We initiated our journey by importing libraries, loading data from a comprehensive dataset, and conducting initial data cleaning. The dataset comprises key variables including country, year, life expectancy, and GDP.\n",
    "* Exploratory Data Analysis: We embarked on a journey of data exploration, visually presenting insights through plots, and highlighting key statistics, enabling an overview of the dataset.\n",
    "* Individual Country Analysis: Prior to the deep dive into China's data, we conducted individual analyses for each of the six countries, calculating average life expectancy and showcasing how GDP and life expectancy evolved over time for each nation.\n",
    "* In-Depth Analysis of China: With a focused lens on China, we investigate how its GDP and life expectancy have transformed over the years."
   ]
  },
  {
   "cell_type": "markdown",
   "metadata": {},
   "source": [
    "## Step 1 - Import Libraries"
   ]
  },
  {
   "cell_type": "code",
   "execution_count": 1,
   "metadata": {},
   "outputs": [],
   "source": [
    "import numpy as np\n",
    "import pandas as pd\n",
    "import seaborn as sns\n",
    "import matplotlib.pyplot as plt"
   ]
  },
  {
   "cell_type": "markdown",
   "metadata": {},
   "source": [
    "## Step 2 - Load Data"
   ]
  },
  {
   "cell_type": "code",
   "execution_count": 2,
   "metadata": {},
   "outputs": [],
   "source": [
    "#Load Data and First Inspection\n",
    "\n",
    "df = pd.read_csv(\"all_data.csv\")"
   ]
  },
  {
   "cell_type": "markdown",
   "metadata": {},
   "source": [
    "## Step 3 - Getting to know the Dataset"
   ]
  },
  {
   "cell_type": "code",
   "execution_count": 3,
   "metadata": {},
   "outputs": [
    {
     "name": "stdout",
     "output_type": "stream",
     "text": [
      "  Country  Year  Life expectancy at birth (years)           GDP\n",
      "0   Chile  2000                              77.3  7.786093e+10\n",
      "1   Chile  2001                              77.3  7.097992e+10\n",
      "2   Chile  2002                              77.8  6.973681e+10\n",
      "3   Chile  2003                              77.9  7.564346e+10\n",
      "4   Chile  2004                              78.0  9.921039e+10\n",
      "<class 'pandas.core.frame.DataFrame'>\n",
      "RangeIndex: 96 entries, 0 to 95\n",
      "Data columns (total 4 columns):\n",
      " #   Column                            Non-Null Count  Dtype  \n",
      "---  ------                            --------------  -----  \n",
      " 0   Country                           96 non-null     object \n",
      " 1   Year                              96 non-null     int64  \n",
      " 2   Life expectancy at birth (years)  96 non-null     float64\n",
      " 3   GDP                               96 non-null     float64\n",
      "dtypes: float64(2), int64(1), object(1)\n",
      "memory usage: 3.1+ KB\n"
     ]
    }
   ],
   "source": [
    "#Getting to know a little bit more about the dataset\n",
    "\n",
    "print(df.head())\n",
    "df.info()"
   ]
  },
  {
   "cell_type": "markdown",
   "metadata": {},
   "source": [
    "## Step 4 - Preprocess Data"
   ]
  },
  {
   "cell_type": "code",
   "execution_count": 4,
   "metadata": {},
   "outputs": [
    {
     "name": "stdout",
     "output_type": "stream",
     "text": [
      "Country                             0\n",
      "Year                                0\n",
      "Life expectancy at birth (years)    0\n",
      "GDP                                 0\n",
      "dtype: int64\n"
     ]
    }
   ],
   "source": [
    "# Data Cleaning\n",
    "\n",
    "#Checking Null Values\n",
    "\n",
    "print(df.isnull().sum())"
   ]
  },
  {
   "cell_type": "code",
   "execution_count": 5,
   "metadata": {},
   "outputs": [
    {
     "name": "stdout",
     "output_type": "stream",
     "text": [
      "0\n"
     ]
    }
   ],
   "source": [
    "#Checking Duplicates\n",
    "\n",
    "print(df.duplicated().sum())"
   ]
  },
  {
   "cell_type": "code",
   "execution_count": 6,
   "metadata": {},
   "outputs": [
    {
     "name": "stdout",
     "output_type": "stream",
     "text": [
      "['Chile' 'China' 'Germany' 'Mexico' 'United States of America' 'Zimbabwe']\n",
      "[2000 2001 2002 2003 2004 2005 2006 2007 2008 2009 2010 2011 2012 2013\n",
      " 2014 2015]\n"
     ]
    }
   ],
   "source": [
    "#Checking unique countries and years in the dataset\n",
    "\n",
    "print(df['Country'].unique())\n",
    "print(df['Year'].unique())"
   ]
  },
  {
   "cell_type": "code",
   "execution_count": 7,
   "metadata": {},
   "outputs": [
    {
     "name": "stdout",
     "output_type": "stream",
     "text": [
      "0     0.004059\n",
      "1     0.003678\n",
      "2     0.003610\n",
      "3     0.003936\n",
      "4     0.005239\n",
      "        ...   \n",
      "91    0.000425\n",
      "92    0.000543\n",
      "93    0.000610\n",
      "94    0.000634\n",
      "95    0.000657\n",
      "Name: GDP_scaled, Length: 96, dtype: float64\n"
     ]
    }
   ],
   "source": [
    "#Min-Max Scalling for GDP Column\n",
    "\n",
    "from sklearn.preprocessing import MinMaxScaler\n",
    "\n",
    "# Create a scaler\n",
    "scaler = MinMaxScaler()\n",
    "\n",
    "# Fit the scaler to the GDP data and transform the values\n",
    "df['GDP_scaled'] = scaler.fit_transform(df[['GDP']])\n",
    "\n",
    "print(df['GDP_scaled'])"
   ]
  },
  {
   "cell_type": "markdown",
   "metadata": {},
   "source": [
    "By applying Min-Max scaling to the GDP data, I'm making my analysis more robust and enable a fair comparison of different countries and variables within the project.\n",
    "The column will be more suitable for comprehensive analysis alongside other variables in the dataset, facilitating easier interpretation and insights into the relationship between GDP and life expectancy, as well as other health-related factors."
   ]
  },
  {
   "cell_type": "code",
   "execution_count": 8,
   "metadata": {},
   "outputs": [],
   "source": [
    "# Rename Column\n",
    "\n",
    "df.rename(columns={'Life expectancy at birth (years)': 'Life_Expectancy'}, inplace=True)"
   ]
  },
  {
   "cell_type": "markdown",
   "metadata": {},
   "source": [
    "## Step 5 - EDA"
   ]
  },
  {
   "cell_type": "code",
   "execution_count": 9,
   "metadata": {},
   "outputs": [
    {
     "data": {
      "text/html": [
       "<div>\n",
       "<style scoped>\n",
       "    .dataframe tbody tr th:only-of-type {\n",
       "        vertical-align: middle;\n",
       "    }\n",
       "\n",
       "    .dataframe tbody tr th {\n",
       "        vertical-align: top;\n",
       "    }\n",
       "\n",
       "    .dataframe thead th {\n",
       "        text-align: right;\n",
       "    }\n",
       "</style>\n",
       "<table border=\"1\" class=\"dataframe\">\n",
       "  <thead>\n",
       "    <tr style=\"text-align: right;\">\n",
       "      <th></th>\n",
       "      <th>Year</th>\n",
       "      <th>Life_Expectancy</th>\n",
       "      <th>GDP</th>\n",
       "      <th>GDP_scaled</th>\n",
       "    </tr>\n",
       "  </thead>\n",
       "  <tbody>\n",
       "    <tr>\n",
       "      <th>count</th>\n",
       "      <td>96.000000</td>\n",
       "      <td>96.000000</td>\n",
       "      <td>9.600000e+01</td>\n",
       "      <td>96.000000</td>\n",
       "    </tr>\n",
       "    <tr>\n",
       "      <th>mean</th>\n",
       "      <td>2007.500000</td>\n",
       "      <td>72.789583</td>\n",
       "      <td>3.880499e+12</td>\n",
       "      <td>0.214200</td>\n",
       "    </tr>\n",
       "    <tr>\n",
       "      <th>std</th>\n",
       "      <td>4.633971</td>\n",
       "      <td>10.672882</td>\n",
       "      <td>5.197561e+12</td>\n",
       "      <td>0.287228</td>\n",
       "    </tr>\n",
       "    <tr>\n",
       "      <th>min</th>\n",
       "      <td>2000.000000</td>\n",
       "      <td>44.300000</td>\n",
       "      <td>4.415703e+09</td>\n",
       "      <td>0.000000</td>\n",
       "    </tr>\n",
       "    <tr>\n",
       "      <th>25%</th>\n",
       "      <td>2003.750000</td>\n",
       "      <td>74.475000</td>\n",
       "      <td>1.733018e+11</td>\n",
       "      <td>0.009333</td>\n",
       "    </tr>\n",
       "    <tr>\n",
       "      <th>50%</th>\n",
       "      <td>2007.500000</td>\n",
       "      <td>76.750000</td>\n",
       "      <td>1.280220e+12</td>\n",
       "      <td>0.070504</td>\n",
       "    </tr>\n",
       "    <tr>\n",
       "      <th>75%</th>\n",
       "      <td>2011.250000</td>\n",
       "      <td>78.900000</td>\n",
       "      <td>4.067510e+12</td>\n",
       "      <td>0.224535</td>\n",
       "    </tr>\n",
       "    <tr>\n",
       "      <th>max</th>\n",
       "      <td>2015.000000</td>\n",
       "      <td>81.000000</td>\n",
       "      <td>1.810000e+13</td>\n",
       "      <td>1.000000</td>\n",
       "    </tr>\n",
       "  </tbody>\n",
       "</table>\n",
       "</div>"
      ],
      "text/plain": [
       "              Year  Life_Expectancy           GDP  GDP_scaled\n",
       "count    96.000000        96.000000  9.600000e+01   96.000000\n",
       "mean   2007.500000        72.789583  3.880499e+12    0.214200\n",
       "std       4.633971        10.672882  5.197561e+12    0.287228\n",
       "min    2000.000000        44.300000  4.415703e+09    0.000000\n",
       "25%    2003.750000        74.475000  1.733018e+11    0.009333\n",
       "50%    2007.500000        76.750000  1.280220e+12    0.070504\n",
       "75%    2011.250000        78.900000  4.067510e+12    0.224535\n",
       "max    2015.000000        81.000000  1.810000e+13    1.000000"
      ]
     },
     "execution_count": 9,
     "metadata": {},
     "output_type": "execute_result"
    }
   ],
   "source": [
    "df.describe()"
   ]
  },
  {
   "cell_type": "markdown",
   "metadata": {},
   "source": [
    "### 5.1.Checking Average Life Expectancy for each Country"
   ]
  },
  {
   "cell_type": "code",
   "execution_count": 10,
   "metadata": {},
   "outputs": [
    {
     "name": "stdout",
     "output_type": "stream",
     "text": [
      "The Average Life Expectancy for Chile is: 78.94375 years old.\n"
     ]
    }
   ],
   "source": [
    "print(\"The Average Life Expectancy for Chile is: \" + str(np.mean(df.Life_Expectancy[df.Country == 'Chile'])) + \" years old.\")"
   ]
  },
  {
   "cell_type": "code",
   "execution_count": 11,
   "metadata": {},
   "outputs": [
    {
     "name": "stdout",
     "output_type": "stream",
     "text": [
      "The Average Life Expectancy for China is: 74.26249999999999 years old.\n"
     ]
    }
   ],
   "source": [
    "print(\"The Average Life Expectancy for China is: \" + str(np.mean(df.Life_Expectancy[df.Country == 'China'])) + \" years old.\")"
   ]
  },
  {
   "cell_type": "code",
   "execution_count": 12,
   "metadata": {},
   "outputs": [
    {
     "name": "stdout",
     "output_type": "stream",
     "text": [
      "The Average Life Expectancy for Germany is: 79.65625 years old.\n"
     ]
    }
   ],
   "source": [
    "print(\"The Average Life Expectancy for Germany is: \" + str(np.mean(df.Life_Expectancy[df.Country == 'Germany'])) + \" years old.\")"
   ]
  },
  {
   "cell_type": "code",
   "execution_count": 13,
   "metadata": {},
   "outputs": [
    {
     "name": "stdout",
     "output_type": "stream",
     "text": [
      "The Average Life Expectancy for Mexico is: 75.71875 years old.\n"
     ]
    }
   ],
   "source": [
    "print(\"The Average Life Expectancy for Mexico is: \" + str(np.mean(df.Life_Expectancy[df.Country == 'Mexico'])) + \" years old.\")"
   ]
  },
  {
   "cell_type": "code",
   "execution_count": 14,
   "metadata": {},
   "outputs": [
    {
     "name": "stdout",
     "output_type": "stream",
     "text": [
      "The Average Life Expectancy for United States is: 78.0625 years old.\n"
     ]
    }
   ],
   "source": [
    "print(\"The Average Life Expectancy for United States is: \" + str(np.mean(df.Life_Expectancy[df.Country == 'United States of America'])) + \" years old.\")"
   ]
  },
  {
   "cell_type": "code",
   "execution_count": 15,
   "metadata": {},
   "outputs": [
    {
     "name": "stdout",
     "output_type": "stream",
     "text": [
      "The Average Life Expectancy for Zimbabwe is: 50.09375 years old.\n"
     ]
    }
   ],
   "source": [
    "print(\"The Average Life Expectancy for Zimbabwe is: \" + str(np.mean(df.Life_Expectancy[df.Country == 'Zimbabwe'])) + \" years old.\")"
   ]
  },
  {
   "cell_type": "markdown",
   "metadata": {},
   "source": [
    "### 5.2. Plotting GDP and Life Expectancy from Each Country Over the Years"
   ]
  },
  {
   "cell_type": "code",
   "execution_count": 16,
   "metadata": {},
   "outputs": [
    {
     "data": {
      "image/png": "[encoded data removed]",
      "text/plain": [
       "<Figure size 640x480 with 1 Axes>"
      ]
     },
     "metadata": {},
     "output_type": "display_data"
    },
    {
     "data": {
      "text/plain": [
       "<Figure size 640x480 with 0 Axes>"
      ]
     },
     "metadata": {},
     "output_type": "display_data"
    }
   ],
   "source": [
    "sns.lineplot(x = \"Year\", y = \"GDP_scaled\", hue = \"Country\", data = df)\n",
    "plt.title(\"Country GDP Over the Years\")\n",
    "plt.xlabel(\"Years\")\n",
    "plt.ylabel(\"GDP\")\n",
    "plt.show()\n",
    "plt.clf()"
   ]
  },
  {
   "cell_type": "markdown",
   "metadata": {},
   "source": [
    "Taking in consideration the line graph above is possible to verify:\n",
    "* Most of the countires kept a stable GDP;\n",
    "* Huge incresa in the GDP of China and United States;\n",
    "* The GDP increase in China made them go over Germany's GDP;\n",
    "* Zimbabwe if the country with the lower GDP;\n",
    "* United States is the country with higher GDP."
   ]
  },
  {
   "cell_type": "code",
   "execution_count": 17,
   "metadata": {},
   "outputs": [
    {
     "data": {
      "image/png": "[encoded data removed]",
      "text/plain": [
       "<Figure size 640x480 with 1 Axes>"
      ]
     },
     "metadata": {},
     "output_type": "display_data"
    },
    {
     "data": {
      "text/plain": [
       "<Figure size 640x480 with 0 Axes>"
      ]
     },
     "metadata": {},
     "output_type": "display_data"
    }
   ],
   "source": [
    "sns.lineplot(x = \"Year\", y = \"Life_Expectancy\", hue = \"Country\", data = df)\n",
    "plt.title(\"Country Life Expectancy Over the Years\")\n",
    "plt.xlabel(\"Years\")\n",
    "plt.ylabel(\"GDP\")\n",
    "plt.show()\n",
    "plt.clf()"
   ]
  },
  {
   "cell_type": "markdown",
   "metadata": {},
   "source": [
    "The line graph above show us:\n",
    "* Germany is the country with the highest life expectancy;\n",
    "* Zimbabwe is the country with the lowest life expectancy. However, the country had a huge increase in it's life expectancy betweem 2000 and 2015;\n",
    "* It's also possible to verify that there was an increase in the life expectancy of every country from 2000 to 2015."
   ]
  },
  {
   "cell_type": "markdown",
   "metadata": {},
   "source": [
    "### 5.3. Average GDP and Life Expectancy Grouped by Country"
   ]
  },
  {
   "cell_type": "code",
   "execution_count": 18,
   "metadata": {},
   "outputs": [
    {
     "name": "stdout",
     "output_type": "stream",
     "text": [
      "Country\n",
      "Chile                       78.94375\n",
      "China                       74.26250\n",
      "Germany                     79.65625\n",
      "Mexico                      75.71875\n",
      "United States of America    78.06250\n",
      "Zimbabwe                    50.09375\n",
      "Name: Life_Expectancy, dtype: float64\n"
     ]
    }
   ],
   "source": [
    "average_life_expectancy = df.groupby(\"Country\")[\"Life_Expectancy\"].mean()\n",
    "print(average_life_expectancy)"
   ]
  },
  {
   "cell_type": "code",
   "execution_count": 19,
   "metadata": {},
   "outputs": [
    {
     "name": "stdout",
     "output_type": "stream",
     "text": [
      "Country\n",
      "Chile                       0.009139\n",
      "China                       0.273730\n",
      "Germany                     0.170780\n",
      "Mexico                      0.053728\n",
      "United States of America    0.777570\n",
      "Zimbabwe                    0.000257\n",
      "Name: GDP_scaled, dtype: float64\n"
     ]
    }
   ],
   "source": [
    "average_GDP = df.groupby(\"Country\")[\"GDP_scaled\"].mean()\n",
    "print(average_GDP)"
   ]
  },
  {
   "cell_type": "markdown",
   "metadata": {},
   "source": [
    "## Step 6 - Analyzing a Specific Country"
   ]
  },
  {
   "cell_type": "markdown",
   "metadata": {},
   "source": [
    "I have chosen China for a more detailed analysis due to its remarkable economic growth and substantial changes in GDP over the years included in the dataframe. China's transformation from an emerging market to a global economic powerhouse has been a subject of immense interest and study. By exploring various aspects of China's data, we can gain a deeper understanding of the factors contributing to its economic and healthcare dynamics."
   ]
  },
  {
   "cell_type": "code",
   "execution_count": 20,
   "metadata": {},
   "outputs": [],
   "source": [
    "# Create a dataframe with all data from China\n",
    "\n",
    "china_df = df[df['Country'] == 'China']"
   ]
  },
  {
   "cell_type": "code",
   "execution_count": 21,
   "metadata": {},
   "outputs": [
    {
     "data": {
      "image/png": "[encoded data removed]",
      "text/plain": [
       "<Figure size 640x480 with 1 Axes>"
      ]
     },
     "metadata": {},
     "output_type": "display_data"
    },
    {
     "data": {
      "text/plain": [
       "<Figure size 640x480 with 0 Axes>"
      ]
     },
     "metadata": {},
     "output_type": "display_data"
    }
   ],
   "source": [
    "# Plotting China's GDP over the years\n",
    "\n",
    "plt.bar(china_df.Year, china_df.GDP_scaled)\n",
    "plt.show()\n",
    "plt.clf()"
   ]
  },
  {
   "cell_type": "code",
   "execution_count": 22,
   "metadata": {},
   "outputs": [
    {
     "name": "stdout",
     "output_type": "stream",
     "text": [
      "0.544516819029969\n",
      "9.163948959656757\n"
     ]
    }
   ],
   "source": [
    "# Difference from the 2000 to 2015 in the GDP\n",
    "\n",
    "gdp_2015 = china_df[\"GDP_scaled\"].max()\n",
    "gdp_2000 = china_df[\"GDP_scaled\"].min()\n",
    "\n",
    "gdp_diff = gdp_2015 - gdp_2000\n",
    "times_increased_gdp = gdp_2015 / gdp_2000\n",
    "print(gdp_diff)\n",
    "print(times_increased_gdp)"
   ]
  },
  {
   "cell_type": "markdown",
   "metadata": {},
   "source": [
    "By checking the bar graph above, it is possible to verify that the year 2000 is when China had the lowest GDP and 2015 the highest. Since 2000 to 2015, China had an increase of its GDP of 9.16 times over that period of time."
   ]
  },
  {
   "cell_type": "code",
   "execution_count": 23,
   "metadata": {},
   "outputs": [
    {
     "data": {
      "image/png": "[encoded data removed]",
      "text/plain": [
       "<Figure size 640x480 with 1 Axes>"
      ]
     },
     "metadata": {},
     "output_type": "display_data"
    },
    {
     "data": {
      "text/plain": [
       "<Figure size 640x480 with 0 Axes>"
      ]
     },
     "metadata": {},
     "output_type": "display_data"
    }
   ],
   "source": [
    "# Plotting China's Life Expectancy over the years\n",
    "\n",
    "plt.bar(china_df.Year, china_df.Life_Expectancy)\n",
    "plt.show()\n",
    "plt.clf()"
   ]
  },
  {
   "cell_type": "code",
   "execution_count": 24,
   "metadata": {},
   "outputs": [
    {
     "name": "stdout",
     "output_type": "stream",
     "text": [
      "4.3999999999999915\n",
      "1.0613668061366806\n"
     ]
    }
   ],
   "source": [
    "# Difference from the 2000 to 2015 in the life expectancy\n",
    "\n",
    "life_2015 = china_df[\"Life_Expectancy\"].max()\n",
    "life_2000 = china_df[\"Life_Expectancy\"].min()\n",
    "\n",
    "life_diff = life_2015 - life_2000\n",
    "times_increased_life = life_2015 / life_2000\n",
    "print(life_diff)\n",
    "print(times_increased_life)"
   ]
  },
  {
   "cell_type": "markdown",
   "metadata": {},
   "source": [
    "Analyzing the bar graph of China's life expectancy over the year, we can verify that there is an increase of the country's life expectancy of 4.39 years since 2000 to 2015."
   ]
  },
  {
   "cell_type": "markdown",
   "metadata": {},
   "source": [
    "### 6.1. Relationship between GDP and Life Expectancy Variables"
   ]
  },
  {
   "cell_type": "markdown",
   "metadata": {},
   "source": [
    "Examining the potential relationship between GDP and Life Expectancy is a key aspect of this analysis. It is a well-established hypothesis that as a nation's economy grows, there may be improvements in various facets of life, including healthcare. By scrutinizing GDP and Life Expectancy variables, it is possible to explore if there exists a concurrent increase in both these factors over the years. Understanding any correlation between these variables is not only valuable from a statistical perspective but also has profound real-world implications. It can provide insights into the influence of economic development on healthcare and quality of life, as well as guide policymakers in making informed decisions for the well-being of a nation's citizens. Therefore, this analysis seeks to uncover any potential relationships and shed light on the dynamics of economic growth and health outcomes."
   ]
  },
  {
   "cell_type": "code",
   "execution_count": 25,
   "metadata": {},
   "outputs": [
    {
     "data": {
      "image/png": "[encoded data removed]",
      "text/plain": [
       "<Figure size 640x480 with 1 Axes>"
      ]
     },
     "metadata": {},
     "output_type": "display_data"
    },
    {
     "data": {
      "text/plain": [
       "<Figure size 640x480 with 0 Axes>"
      ]
     },
     "metadata": {},
     "output_type": "display_data"
    }
   ],
   "source": [
    "# Plotting a Scatter Plot to examine a potential relationship between GDP and Life Expectancy\n",
    "\n",
    "sns.scatterplot(x = \"GDP_scaled\", y = \"Life_Expectancy\", data = china_df)\n",
    "plt.xlabel(\"GDP\")\n",
    "plt.ylabel(\"Life Expectancy\")\n",
    "plt.show()\n",
    "plt.clf()"
   ]
  },
  {
   "cell_type": "markdown",
   "metadata": {},
   "source": [
    "### 6.1. Exploring Covariance and Correlation between GDP and Life Expectancy"
   ]
  },
  {
   "cell_type": "code",
   "execution_count": 26,
   "metadata": {},
   "outputs": [
    {
     "name": "stdout",
     "output_type": "stream",
     "text": [
      "[[0.0374337  0.23168039]\n",
      " [0.23168039 1.73716667]]\n"
     ]
    }
   ],
   "source": [
    "# Calculating Covariance\n",
    "\n",
    "cov_gdp_life = np.cov(china_df.GDP_scaled, china_df.Life_Expectancy)\n",
    "print(cov_gdp_life)"
   ]
  },
  {
   "cell_type": "code",
   "execution_count": 27,
   "metadata": {},
   "outputs": [
    {
     "name": "stdout",
     "output_type": "stream",
     "text": [
      "0.9085255408648356\n"
     ]
    }
   ],
   "source": [
    "# Calculating Correlation between variables\n",
    "\n",
    "from scipy.stats import pearsonr\n",
    "\n",
    "corr_gdp_life, p = pearsonr(china_df.GDP_scaled, china_df.Life_Expectancy)\n",
    "print(corr_gdp_life)"
   ]
  },
  {
   "cell_type": "markdown",
   "metadata": {},
   "source": [
    "Key points on the analysis of Covariance and Corrlation values:\n",
    "* A Covariance of 0.23 indicates that both GDP and Life Expectancy change together. This value being positive implies that as GDP increase, Life Expectancy tend also to increase;\n",
    "* The correlation between the two variables is 0.9085 which indicates a strong positive correlation. Also implying that when GDP increases, the Life Expectancy tend to increase aswell;\n",
    "* Those results also indicates that the huge increase of the GDP over the years had an impact on the increase of the Life Expectancy in China during the same time."
   ]
  },
  {
   "cell_type": "markdown",
   "metadata": {},
   "source": [
    "### 6.2. Linear Regression"
   ]
  },
  {
   "cell_type": "code",
   "execution_count": 33,
   "metadata": {},
   "outputs": [
    {
     "name": "stdout",
     "output_type": "stream",
     "text": [
      "Intercept     72.568364\n",
      "GDP_scaled     6.189086\n",
      "dtype: float64\n"
     ]
    }
   ],
   "source": [
    "# Fitting a Linear Regression Model\n",
    "\n",
    "import statsmodels.api as sm\n",
    "\n",
    "model = sm.OLS.from_formula('Life_Expectancy ~ GDP_scaled', china_df)\n",
    "results = model.fit()\n",
    "print(results.params)"
   ]
  },
  {
   "cell_type": "code",
   "execution_count": 34,
   "metadata": {},
   "outputs": [],
   "source": [
    "# Getting the intercept and the slope\n",
    "\n",
    "intercept, slope = results.params['Intercept'], results.params['GDP_scaled']\n",
    "\n",
    "# Regression Line\n",
    "\n",
    "regression_line = slope * china_df['GDP_scaled'] + intercept"
   ]
  },
  {
   "cell_type": "code",
   "execution_count": 37,
   "metadata": {},
   "outputs": [
    {
     "data": {
      "image/png": "[encoded data removed]",
      "text/plain": [
       "<Figure size 640x480 with 1 Axes>"
      ]
     },
     "metadata": {},
     "output_type": "display_data"
    },
    {
     "data": {
      "text/plain": [
       "<Figure size 640x480 with 0 Axes>"
      ]
     },
     "metadata": {},
     "output_type": "display_data"
    }
   ],
   "source": [
    "# Fitting the regression line in the scatter plot\n",
    "\n",
    "sns.scatterplot(x = \"GDP_scaled\", y = \"Life_Expectancy\", data = china_df)\n",
    "plt.plot(china_df.GDP_scaled, regression_line, color = \"red\", linestyle = '--')\n",
    "plt.title(\"Fitting a Regression Line\")\n",
    "plt.xlabel(\"GDP\")\n",
    "plt.ylabel(\"Life Expectancy\")\n",
    "plt.show()\n",
    "plt.clf()"
   ]
  },
  {
   "cell_type": "markdown",
   "metadata": {},
   "source": [
    "### 6.3. Making some predictions"
   ]
  },
  {
   "cell_type": "markdown",
   "metadata": {},
   "source": [
    "It is possible to try to predict the life expectancy in China in the next upcoming years if the GDP of the country keeps increasing.\n",
    "If the GDP keeps increasing with the same rate, we would have for example a GDP of 0.82 in the year 2025, according to our scaled GDP in the dataset.\n",
    "We will try to predict what would be the life expectancy in China in 2025, using the regression model calculated before."
   ]
  },
  {
   "cell_type": "code",
   "execution_count": 38,
   "metadata": {},
   "outputs": [
    {
     "name": "stdout",
     "output_type": "stream",
     "text": [
      "77.64341402078328\n"
     ]
    }
   ],
   "source": [
    "# Predicting Life Expectancy in 2025\n",
    "\n",
    "life_expectancy_2025 = slope * 0.82 + intercept\n",
    "print(life_expectancy_2025)"
   ]
  },
  {
   "cell_type": "code",
   "execution_count": 39,
   "metadata": {},
   "outputs": [
    {
     "name": "stdout",
     "output_type": "stream",
     "text": [
      "1.5434140207832883\n"
     ]
    }
   ],
   "source": [
    "print(life_expectancy_2025 - life_2015)"
   ]
  },
  {
   "cell_type": "markdown",
   "metadata": {},
   "source": [
    "So, if China's GDP in 2025 increases to 0.82, there would be an increase of 1.54 years in China's Life Expectancy. That would be our prediction.\n",
    "Of course there are different factors that will affect the increase in the life expectancy of a country, but GDP seems to have some influence overall."
   ]
  },
  {
   "cell_type": "markdown",
   "metadata": {},
   "source": [
    "## 7. Step - Suggestions for further studies"
   ]
  },
  {
   "cell_type": "markdown",
   "metadata": {},
   "source": [
    "While our analysis strongly indicates a significant positive relationship between GDP and Life Expectancy, it is essential to acknowledge the complexity of healthcare dynamics and well-being. Further studies in this domain can explore the multifaceted nature of the interaction between economic prosperity and health outcomes. In addition to GDP, there exist numerous factors that potentially influence Life Expectancy. Socioeconomic disparities, healthcare accessibility, educational attainment, and environmental factors are just a few examples. Understanding the interplay of these factors, both independently and in conjunction with GDP, is pivotal. Future research can delve into the specific mechanisms through which GDP contributes to improved healthcare, be it through healthcare infrastructure investment, social policies, or economic stability. Additionally, cross-country comparative analyses can reveal valuable insights into variations in the GDP-Life Expectancy relationship and identify best practices for promoting healthcare and well-being. By broadening the scope of inquiry, we can develop a comprehensive understanding of how societies can enhance life quality, ultimately improving health and longevity for all."
   ]
  },
  {
   "cell_type": "code",
   "execution_count": null,
   "metadata": {},
   "outputs": [],
   "source": []
  }
 ],
 "metadata": {
  "kernelspec": {
   "display_name": "Python 3 (ipykernel)",
   "language": "python",
   "name": "python3"
  },
  "language_info": {
   "codemirror_mode": {
    "name": "ipython",
    "version": 3
   },
   "file_extension": ".py",
   "mimetype": "text/x-python",
   "name": "python",
   "nbconvert_exporter": "python",
   "pygments_lexer": "ipython3",
   "version": "3.10.9"
  }
 },
 "nbformat": 4,
 "nbformat_minor": 4
}
